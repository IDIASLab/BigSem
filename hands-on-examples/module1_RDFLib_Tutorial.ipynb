{
 "cells": [
  {
   "cell_type": "markdown",
   "id": "88d9d8a2",
   "metadata": {},
   "source": [
    "# Introduction to RDFLib: Working with Knowledge Graphs in Python\n",
    "This notebook will guide you step-by-step through RDFLib, a Python library for working with RDF data. We will cover RDF basics, knowledge graphs, and practical examples using RDFLib."
   ]
  },
  {
   "cell_type": "markdown",
   "id": "017ce3a8",
   "metadata": {},
   "source": [
    "## Agenda\n",
    "- What is RDF?\n",
    "- What is RDFLib?\n",
    "- Installing RDFLib\n",
    "- RDF Graph Basics (Creating, Parsing, Adding Triples)\n",
    "- Serializing RDF Data\n",
    "- Querying with SPARQL\n",
    "- Example: Building a Knowledge Graph\n",
    "- Real-world Use Case"
   ]
  },
  {
   "cell_type": "markdown",
   "id": "0197ca25",
   "metadata": {},
   "source": [
    "## What is RDF?\n",
    "### RDF Basics\n",
    "RDF stands for Resource Description Framework. It is a standard model for data interchange on the web.\n",
    "\n",
    "- **Triples**: RDF data is represented as triples, consisting of:\n",
    "  - **Subject**: The resource we are describing (like a person, object, or concept).\n",
    "  - **Predicate**: The relationship or property of the subject (e.g., 'name' or 'knows').\n",
    "  - **Object**: The value or another resource the subject is related to.\n",
    "\n",
    "### Example of an RDF Triple:\n",
    "`<http://example.org/person/Alice> <http://xmlns.com/foaf/0.1/name> 'Alice'`\n",
    "\n",
    "This represents that the subject `<Alice>` has the property `name` with the value `Alice`. This forms a graph, where the nodes are resources, and edges represent the relationships."
   ]
  },
  {
   "cell_type": "markdown",
   "id": "fc085387",
   "metadata": {},
   "source": [
    "## What is RDFLib?\n",
    "RDFLib is a Python library that simplifies working with RDF data. It allows you to:\n",
    "- Create and manipulate RDF graphs.\n",
    "- Serialize RDF data to different formats (like Turtle, XML, JSON-LD).\n",
    "- Query RDF graphs using the SPARQL query language.\n",
    "\n",
    "### Why use RDFLib?\n",
    "RDFLib is widely used for working with knowledge graphs, which are essential in fields like Linked Data, Semantic Web, and ontologies. It's also used for integrating data from different sources and reasoning about relationships."
   ]
  },
  {
   "cell_type": "code",
   "execution_count": null,
   "id": "09062cec",
   "metadata": {},
   "outputs": [],
   "source": [
    "# Install RDFLib using pip (run this command in your terminal)\n",
    "!pip install rdflib"
   ]
  },
  {
   "cell_type": "markdown",
   "id": "03a3f437",
   "metadata": {},
   "source": [
    "## RDF Graph Basics\n",
    "In RDFLib, an RDF Graph is used to store triples. Each triple consists of a subject, predicate, and object, which together represent data in a structured format."
   ]
  },
  {
   "cell_type": "markdown",
   "id": "df7e034d",
   "metadata": {},
   "source": [
    "### Creating an RDF Graph\n",
    "Let's start by creating an empty RDF graph using RDFLib."
   ]
  },
  {
   "cell_type": "code",
   "execution_count": null,
   "id": "67fad994",
   "metadata": {},
   "outputs": [],
   "source": [
    "from rdflib import Graph\n",
    "# Create an empty graph\n",
    "g = Graph()\n",
    "print(f'Created an empty graph with {len(g)} triples.')"
   ]
  },
  {
   "cell_type": "markdown",
   "id": "f2f1e036",
   "metadata": {},
   "source": [
    "The graph is currently empty. Next, let's learn how to parse RDF data into this graph."
   ]
  },
  {
   "cell_type": "markdown",
   "id": "1a9bda25",
   "metadata": {},
   "source": [
    "## Parsing RDF Data\n",
    "We can load RDF data from an external file or URL into the graph. RDF data can be represented in various formats, such as XML, Turtle, and JSON-LD.\n",
    "\n",
    "### Parsing Example:\n",
    "Here we parse an RDF file into the graph. The RDF file could contain data in any RDF format, like Turtle or XML."
   ]
  },
  {
   "cell_type": "code",
   "execution_count": null,
   "id": "7070fe3d",
   "metadata": {},
   "outputs": [],
   "source": [
    "# Parsing an RDF file (assuming we have an RDF file available)\n",
    "# You can replace 'example.rdf' with a path to your own RDF file.\n",
    "g.parse('example.rdf')\n",
    "print(f'Graph has {len(g)} triples after parsing.')"
   ]
  },
  {
   "cell_type": "markdown",
   "id": "54067585",
   "metadata": {},
   "source": [
    "## Serializing RDF Data\n",
    "Once we have RDF data in a graph, we can serialize (export) it into various formats such as Turtle, XML, and JSON-LD. Serialization is useful for sharing or saving the data for later use."
   ]
  },
  {
   "cell_type": "code",
   "execution_count": null,
   "id": "794385ab",
   "metadata": {},
   "outputs": [],
   "source": [
    "# Serializing RDF data to XML format\n",
    "g.serialize(destination='output.rdf', format='xml')\n",
    "print('Serialized the RDF graph to XML format and saved it as output.rdf')"
   ]
  },
  {
   "cell_type": "markdown",
   "id": "ee0b59eb",
   "metadata": {},
   "source": [
    "## Adding Triples to the Graph\n",
    "We can programmatically add triples to the graph using RDFLib. Triples are added by defining a subject, predicate, and object, which represent the data."
   ]
  },
  {
   "cell_type": "code",
   "execution_count": null,
   "id": "fd21c751",
   "metadata": {},
   "outputs": [],
   "source": [
    "from rdflib import URIRef, Literal, Namespace\n",
    "# Define a namespace for our RDF data\n",
    "EX = Namespace('http://example.org/')\n",
    "\n",
    "# Add a few triples to the graph\n",
    "g.add((URIRef(EX.Alice), URIRef(EX.name), Literal('Alice')))\n",
    "g.add((URIRef(EX.Bob), URIRef(EX.knows), URIRef(EX.Alice)))\n",
    "\n",
    "print(f'Graph now contains {len(g)} triples after adding.')"
   ]
  },
  {
   "cell_type": "markdown",
   "id": "13dcfa8e",
   "metadata": {},
   "source": [
    "## Querying RDF with SPARQL\n",
    "SPARQL is a query language for RDF. It allows us to query the graph for specific triples based on patterns.\n",
    "\n",
    "### Example SPARQL Query:\n",
    "We will query for all the subjects, predicates, and objects in the graph."
   ]
  },
  {
   "cell_type": "code",
   "execution_count": null,
   "id": "1da4befa",
   "metadata": {},
   "outputs": [],
   "source": [
    "qres = g.query(\n",
    "    '''\n",
    "    SELECT ?subject ?predicate ?object\n",
    "    WHERE {\n",
    "      ?subject ?predicate ?object.\n",
    "    }\n",
    "    '''\n",
    ")\n",
    "# Print the results of the query\n",
    "for row in qres:\n",
    "    print(f'{row.subject} {row.predicate} {row.object}')"
   ]
  },
  {
   "cell_type": "markdown",
   "id": "d2211911",
   "metadata": {},
   "source": [
    "## Example: Building a Knowledge Graph\n",
    "Now let's expand our graph by adding more data. We will create a small knowledge graph of people and relationships, and query the graph to retrieve specific information."
   ]
  },
  {
   "cell_type": "code",
   "execution_count": null,
   "id": "55c0edb2",
   "metadata": {},
   "outputs": [],
   "source": [
    "g.add((URIRef(EX.Carol), URIRef(EX.knows), URIRef(EX.Bob)))\n",
    "# Query to find who knows Alice\n",
    "qres = g.query(\n",
    "    '''\n",
    "    SELECT ?s WHERE { ?s <http://example.org/knows> <http://example.org/Alice> }\n",
    "    '''\n",
    ")\n",
    "# Print out the results\n",
    "for row in qres:\n",
    "    print(f'{row.s} knows Alice.')"
   ]
  },
  {
   "cell_type": "markdown",
   "id": "0ab2277c",
   "metadata": {},
   "source": [
    "## Real-world Use Case\n",
    "RDFLib can be used for many applications, such as integrating data from multiple sources into a unified knowledge graph. For example, you can use RDFLib to build a knowledge graph that links data from DBpedia, Wikidata, and other linked data sources.\n",
    "\n",
    "The flexibility of RDFLib allows it to work with a variety of RDF formats, making it a powerful tool in data integration, semantic web, and ontology-based projects."
   ]
  },
  {
   "cell_type": "markdown",
   "id": "b4d340e5",
   "metadata": {},
   "source": [
    "## Conclusion\n",
    "In this detailed tutorial, we covered:\n",
    "- The basics of RDF and its structure (triples).\n",
    "- How to use RDFLib to create, parse, and query RDF data.\n",
    "- Practical examples of building and querying RDF graphs.\n",
    "\n",
    "RDFLib provides a powerful toolkit for working with RDF data in Python. Explore more through its official documentation and experiment with real-world data to master RDF and knowledge graphs."
   ]
  }
 ],
 "metadata": {},
 "nbformat": 4,
 "nbformat_minor": 5
}
