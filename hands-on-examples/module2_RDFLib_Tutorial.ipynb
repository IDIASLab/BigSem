{
  "cells": [
    {
      "cell_type": "markdown",
      "id": "88d9d8a2",
      "metadata": {
        "id": "88d9d8a2"
      },
      "source": [
        "# Introduction to RDFLib: Working with Knowledge Graphs in Python\n",
        "This notebook will guide you step-by-step through RDFLib, a Python library for working with RDF data. We will cover RDF basics, knowledge graphs, and practical examples using RDFLib."
      ]
    },
    {
      "cell_type": "markdown",
      "id": "017ce3a8",
      "metadata": {
        "id": "017ce3a8"
      },
      "source": [
        "## Agenda\n",
        "- What is RDF?\n",
        "- What is RDFLib?\n",
        "- Installing RDFLib\n",
        "- RDF Graph Basics (Creating, Parsing, Adding Triples)\n",
        "- Serializing RDF Data\n",
        "- Querying with SPARQL\n",
        "- Example: Building a Knowledge Graph\n",
        "- Real-world Use Case"
      ]
    },
    {
      "cell_type": "markdown",
      "id": "0197ca25",
      "metadata": {
        "id": "0197ca25"
      },
      "source": [
        "## What is RDF?\n",
        "### RDF Basics\n",
        "RDF stands for Resource Description Framework. It is a standard model for data interchange on the web.\n",
        "\n",
        "- **Triples**: RDF data is represented as triples, consisting of:\n",
        "  - **Subject**: The resource we are describing (like a person, object, or concept).\n",
        "  - **Predicate**: The relationship or property of the subject (e.g., 'name' or 'knows').\n",
        "  - **Object**: The value or another resource the subject is related to.\n",
        "\n",
        "### Example of an RDF Triple:\n",
        "`<http://example.org/person/Alice> <http://xmlns.com/foaf/0.1/name> 'Alice'`\n",
        "\n",
        "This represents that the subject `<Alice>` has the property `name` with the value `Alice`. This forms a graph, where the nodes are resources, and edges represent the relationships."
      ]
    },
    {
      "cell_type": "markdown",
      "id": "fc085387",
      "metadata": {
        "id": "fc085387"
      },
      "source": [
        "## What is RDFLib?\n",
        "RDFLib is a Python library that simplifies working with RDF data. It allows you to:\n",
        "- Create and manipulate RDF graphs.\n",
        "- Serialize RDF data to different formats (like Turtle, XML, JSON-LD).\n",
        "- Query RDF graphs using the SPARQL query language.\n",
        "\n",
        "### Why use RDFLib?\n",
        "RDFLib is widely used for working with knowledge graphs, which are essential in fields like Linked Data, Semantic Web, and ontologies. It's also used for integrating data from different sources and reasoning about relationships."
      ]
    },
    {
      "cell_type": "code",
      "execution_count": null,
      "id": "09062cec",
      "metadata": {
        "id": "09062cec"
      },
      "outputs": [],
      "source": [
        "# Install RDFLib using pip (run this command in your terminal)\n",
        "!pip install rdflib"
      ]
    },
    {
      "cell_type": "markdown",
      "id": "03a3f437",
      "metadata": {
        "id": "03a3f437"
      },
      "source": [
        "## RDF Graph Basics\n",
        "In RDFLib, an RDF Graph is used to store triples. Each triple consists of a subject, predicate, and object, which together represent data in a structured format."
      ]
    },
    {
      "cell_type": "markdown",
      "id": "df7e034d",
      "metadata": {
        "id": "df7e034d"
      },
      "source": [
        "### Creating an RDF Graph\n",
        "Let's start by creating an empty RDF graph using RDFLib."
      ]
    },
    {
      "cell_type": "code",
      "execution_count": null,
      "id": "67fad994",
      "metadata": {
        "id": "67fad994"
      },
      "outputs": [],
      "source": [
        "from rdflib import Graph\n",
        "# Create an empty graph\n",
        "g = Graph()\n",
        "print(f'Created an empty graph with {len(g)} triples.')"
      ]
    },
    {
      "cell_type": "markdown",
      "id": "f2f1e036",
      "metadata": {
        "id": "f2f1e036"
      },
      "source": [
        "The graph is currently empty. Next, let's learn how to parse RDF data into this graph."
      ]
    },
    {
      "cell_type": "markdown",
      "id": "1a9bda25",
      "metadata": {
        "id": "1a9bda25"
      },
      "source": [
        "## Parsing RDF Data\n",
        "We can load RDF data from an external file or URL into the graph. RDF data can be represented in various formats, such as XML, Turtle, and JSON-LD.\n",
        "\n",
        "### Parsing Example:\n",
        "Here we parse an RDF file into the graph. The RDF file could contain data in any RDF format, like Turtle or XML."
      ]
    },
    {
      "cell_type": "code",
      "execution_count": null,
      "id": "7070fe3d",
      "metadata": {
        "id": "7070fe3d"
      },
      "outputs": [],
      "source": [
        "# Parsing an RDF file (assuming we have an RDF file available)\n",
        "# You can replace 'example.rdf' with a path to your own RDF file.\n",
        "g.parse('example.rdf')\n",
        "print(f'Graph has {len(g)} triples after parsing.')"
      ]
    },
    {
      "cell_type": "markdown",
      "id": "54067585",
      "metadata": {
        "id": "54067585"
      },
      "source": [
        "## Serializing RDF Data\n",
        "Once we have RDF data in a graph, we can serialize (export) it into various formats such as Turtle, XML, and JSON-LD. Serialization is useful for sharing or saving the data for later use."
      ]
    },
    {
      "cell_type": "code",
      "execution_count": null,
      "id": "794385ab",
      "metadata": {
        "id": "794385ab"
      },
      "outputs": [],
      "source": [
        "# Serializing RDF data to XML format\n",
        "g.serialize(destination='output.rdf', format='xml')\n",
        "print('Serialized the RDF graph to XML format and saved it as output.rdf')"
      ]
    },
    {
      "cell_type": "markdown",
      "id": "ee0b59eb",
      "metadata": {
        "id": "ee0b59eb"
      },
      "source": [
        "## Adding Triples to the Graph\n",
        "We can programmatically add triples to the graph using RDFLib. Triples are added by defining a subject, predicate, and object, which represent the data."
      ]
    },
    {
      "cell_type": "code",
      "execution_count": null,
      "id": "fd21c751",
      "metadata": {
        "id": "fd21c751"
      },
      "outputs": [],
      "source": [
        "from rdflib import URIRef, Literal, Namespace\n",
        "# Define a namespace for our RDF data\n",
        "EX = Namespace('http://example.org/')\n",
        "\n",
        "# Add a few triples to the graph\n",
        "g.add((URIRef(EX.Alice), URIRef(EX.name), Literal('Alice')))\n",
        "g.add((URIRef(EX.Bob), URIRef(EX.knows), URIRef(EX.Alice)))\n",
        "\n",
        "print(f'Graph now contains {len(g)} triples after adding.')"
      ]
    },
    {
      "cell_type": "markdown",
      "id": "13dcfa8e",
      "metadata": {
        "id": "13dcfa8e"
      },
      "source": [
        "## Querying RDF with SPARQL\n",
        "SPARQL is a query language for RDF. It allows us to query the graph for specific triples based on patterns.\n",
        "\n",
        "### Example SPARQL Query:\n",
        "We will query for all the subjects, predicates, and objects in the graph."
      ]
    },
    {
      "cell_type": "code",
      "execution_count": null,
      "id": "1da4befa",
      "metadata": {
        "id": "1da4befa"
      },
      "outputs": [],
      "source": [
        "qres = g.query(\n",
        "    '''\n",
        "    SELECT ?subject ?predicate ?object\n",
        "    WHERE {\n",
        "      ?subject ?predicate ?object.\n",
        "    }\n",
        "    '''\n",
        ")\n",
        "# Print the results of the query\n",
        "for row in qres:\n",
        "    print(f'{row.subject} {row.predicate} {row.object}')"
      ]
    },
    {
      "cell_type": "markdown",
      "id": "d2211911",
      "metadata": {
        "id": "d2211911"
      },
      "source": [
        "## Example: Building a Knowledge Graph\n",
        "Now let's expand our graph by adding more data. We will create a small knowledge graph of people and relationships, and query the graph to retrieve specific information."
      ]
    },
    {
      "cell_type": "code",
      "execution_count": null,
      "id": "55c0edb2",
      "metadata": {
        "id": "55c0edb2"
      },
      "outputs": [],
      "source": [
        "g.add((URIRef(EX.Carol), URIRef(EX.knows), URIRef(EX.Bob)))\n",
        "# Query to find who knows Alice\n",
        "qres = g.query(\n",
        "    '''\n",
        "    SELECT ?s WHERE { ?s <http://example.org/knows> <http://example.org/Alice> }\n",
        "    '''\n",
        ")\n",
        "# Print out the results\n",
        "for row in qres:\n",
        "    print(f'{row.s} knows Alice.')"
      ]
    },
    {
      "cell_type": "markdown",
      "id": "6769404b",
      "metadata": {
        "id": "6769404b"
      },
      "source": [
        "# Querying Local TTL File Using RDFLib with RecipeKG"
      ]
    },
    {
      "cell_type": "markdown",
      "id": "63a34941",
      "metadata": {
        "id": "63a34941"
      },
      "source": [
        "\n",
        "In this section, we will use the RDFLib library to load a local TTL file (`recipekg_100.ttl`) and run SPARQL queries on it.\n",
        "We’ll go through three example queries, starting with a basic query and gradually increasing the complexity.\n",
        "Each example will be explained step-by-step.\n",
        "    "
      ]
    },
    {
      "cell_type": "markdown",
      "id": "7ba79c71",
      "metadata": {
        "id": "7ba79c71"
      },
      "source": [
        "## Step 1: Loading the TTL File"
      ]
    },
    {
      "cell_type": "code",
      "execution_count": 2,
      "id": "7412d6dd",
      "metadata": {
        "colab": {
          "base_uri": "https://localhost:8080/"
        },
        "id": "7412d6dd",
        "outputId": "d537675c-2ce0-43e8-9017-37bcb8028d0b"
      },
      "outputs": [
        {
          "output_type": "stream",
          "name": "stdout",
          "text": [
            "Graph has 9753 triples after loading 'recipekg_100.ttl'.\n"
          ]
        }
      ],
      "source": [
        "from rdflib import Graph\n",
        "# Load the recipekg_100.ttl file into an RDFLib Graph\n",
        "g = Graph()\n",
        "g.parse(\"recipekg_100.ttl\", format=\"ttl\")\n",
        "print(f\"Graph has {len(g)} triples after loading 'recipekg_100.ttl'.\")"
      ]
    },
    {
      "cell_type": "markdown",
      "id": "0f086632",
      "metadata": {
        "id": "0f086632"
      },
      "source": [
        "## Example 1: Basic Query - Retrieving Triples"
      ]
    },
    {
      "cell_type": "code",
      "execution_count": 23,
      "id": "441bc99d",
      "metadata": {
        "colab": {
          "base_uri": "https://localhost:8080/"
        },
        "id": "441bc99d",
        "outputId": "c60b86dc-706c-4c13-9797-c6e0284f2ee9"
      },
      "outputs": [
        {
          "output_type": "stream",
          "name": "stdout",
          "text": [
            "Subject: http://purl.org/recipekg/recipe/skillet-pepper-and-garlic-pork-chops, Predicate: https://schema.org/name, Object: Skillet Pepper and Garlic Pork Chops\n",
            "Subject: http://purl.org/recipekg/recipe/broccoli-casserole, Predicate: https://schema.org/datePublished, Object: 2000-04-24T03:18:48.000Z\n",
            "Subject: nce80cf32b190476e8a182152a37af8e0b147, Predicate: http://purl.org/recipekg/hasFSAColor, Object: http://purl.org/recipekg/FSAGreen\n",
            "Subject: nce80cf32b190476e8a182152a37af8e0b1662, Predicate: http://purl.org/recipekg/hasQuantity, Object: 1/3\n",
            "Subject: nce80cf32b190476e8a182152a37af8e0b21, Predicate: http://purl.org/recipekg/hasUnit, Object: teaspoon\n"
          ]
        }
      ],
      "source": [
        "# Define a simple query to retrieve all subjects, predicates, and objects in the graph\n",
        "query1 = '''\n",
        "SELECT DISTINCT ?subject ?predicate ?object\n",
        "WHERE {\n",
        "    ?subject ?predicate ?object .\n",
        "}\n",
        "LIMIT 5\n",
        "'''\n",
        "\n",
        "# Run the query\n",
        "results1 = g.query(query1)\n",
        "\n",
        "# Print each subject, predicate, and object from the query results\n",
        "for row in results1:\n",
        "    print(f\"Subject: {row.subject}, Predicate: {row.predicate}, Object: {row.object}\")"
      ]
    },
    {
      "cell_type": "markdown",
      "id": "f69da4e5",
      "metadata": {
        "id": "f69da4e5"
      },
      "source": [
        "## Example 2: Intermediate Query - Retrieving Recipes"
      ]
    },
    {
      "cell_type": "code",
      "execution_count": 24,
      "id": "df865ce3",
      "metadata": {
        "colab": {
          "base_uri": "https://localhost:8080/"
        },
        "id": "df865ce3",
        "outputId": "79fbcab2-0ab1-4077-c52a-6ab85849b044"
      },
      "outputs": [
        {
          "output_type": "stream",
          "name": "stdout",
          "text": [
            "Recipe: http://purl.org/recipekg/recipe/peanut-butter-tandy-bars\n",
            "Recipe: http://purl.org/recipekg/recipe/the-best-oatmeal-cookies\n",
            "Recipe: http://purl.org/recipekg/recipe/peach-cobbler-ii\n",
            "Recipe: http://purl.org/recipekg/recipe/pie-crust-v\n",
            "Recipe: http://purl.org/recipekg/recipe/dads-beef-and-chive-dip\n"
          ]
        }
      ],
      "source": [
        "# Define a query to retrieve all subjects associated with a specific predicate (e.g., schema:Recipe)\n",
        "query2 = '''\n",
        "PREFIX schema: <https://schema.org/>\n",
        "PREFIX recipeKG: <http://purl.org/recipekg/>\n",
        "  SELECT ?recipe\n",
        "  WHERE { ?recipe a schema:Recipe . }\n",
        "  LIMIT 5\n",
        "'''\n",
        "\n",
        "# Run the query\n",
        "results2 = g.query(query2)\n",
        "\n",
        "# Print each recipe from the query results\n",
        "for row in results2:\n",
        "    print(f\"Recipe: {row.recipe}\")"
      ]
    },
    {
      "cell_type": "markdown",
      "id": "149d7ecc",
      "metadata": {
        "id": "149d7ecc"
      },
      "source": [
        "## Example 3: Advanced Query - Recipes and their information"
      ]
    },
    {
      "cell_type": "code",
      "execution_count": 25,
      "id": "869d5b03",
      "metadata": {
        "colab": {
          "base_uri": "https://localhost:8080/"
        },
        "id": "869d5b03",
        "outputId": "ed14fa0f-419c-4699-e100-5e5a4f1b48c4"
      },
      "outputs": [
        {
          "output_type": "stream",
          "name": "stdout",
          "text": [
            "Recipe: http://purl.org/recipekg/recipe/peanut-butter-tandy-bars, Calorie: 230.0, Category: http://purl.org/recipekg/categories/desserts/, USDA Score: 3\n",
            "Recipe: http://purl.org/recipekg/recipe/the-best-oatmeal-cookies, Calorie: 172.8, Category: http://purl.org/recipekg/categories/desserts/, USDA Score: 4\n",
            "Recipe: http://purl.org/recipekg/recipe/peach-cobbler-ii, Calorie: 672.4, Category: http://purl.org/recipekg/categories/desserts/, USDA Score: 1\n",
            "Recipe: http://purl.org/recipekg/recipe/pie-crust-v, Calorie: 210.4, Category: http://purl.org/recipekg/categories/desserts/, USDA Score: 3\n",
            "Recipe: http://purl.org/recipekg/recipe/dads-beef-and-chive-dip, Calorie: 77.6, Category: http://purl.org/recipekg/categories/appetizers-and-snacks/, USDA Score: 4\n"
          ]
        }
      ],
      "source": [
        "# Define a query to retrieve recipes with specific details (e.g., calorie, category, USDAScore)\n",
        "query3 = \"\"\"\n",
        "     PREFIX schema: <https://schema.org/>\n",
        "     PREFIX recipeKG: <http://purl.org/recipekg/>\n",
        "     PREFIX rdfs:  <http://www.w3.org/2000/01/rdf-schema#>\n",
        "     SELECT DISTINCT ?recipe ?calorie ?category ?USDAScore\n",
        "     WHERE {\n",
        "                 ?recipe a schema:Recipe .\n",
        "\n",
        "                 ?recipe recipeKG:hasNutritionalInformation ?a .\n",
        "                 ?a recipeKG:hasCalorificData ?b .\n",
        "                 ?b recipeKG:hasAmount ?calorie .\n",
        "\n",
        "                 ?recipe recipeKG:belongsTo ?subcategory .\n",
        "                 ?subcategory rdfs:subClassOf* ?category .\n",
        "                 ?category a recipeKG:RecipeCategory .\n",
        "\n",
        "                 ?recipe recipeKG:hasUSDAScore ?USDAScore .\n",
        "         }\n",
        "         LIMIT 5\n",
        "     \"\"\"\n",
        "\n",
        "# Run the query\n",
        "results3 = g.query(query3)\n",
        "\n",
        "# Print each recipe with its details from the query results\n",
        "for row in results3:\n",
        "    print(f\"Recipe: {row.recipe}, Calorie: {row.calorie}, Category: {row.category}, USDA Score: {row.USDAScore}\")"
      ]
    },
    {
      "cell_type": "markdown",
      "id": "b4d340e5",
      "metadata": {
        "id": "b4d340e5"
      },
      "source": [
        "## Conclusion\n",
        "In this detailed tutorial, we covered:\n",
        "- The basics of RDF and its structure (triples).\n",
        "- How to use RDFLib to create, parse, and query RDF data.\n",
        "- Practical examples of building and querying RDF graphs.\n",
        "\n",
        "RDFLib provides a powerful toolkit for working with RDF data in Python. Explore more through its official documentation and experiment with real-world data to master RDF and knowledge graphs."
      ]
    },
    {
      "cell_type": "markdown",
      "id": "f0927108",
      "metadata": {
        "id": "f0927108"
      },
      "source": [
        "\n",
        "In this query, we find recipes that include a specific ingredient, such as \"sugar\".\n",
        "We assume that each ingredient has an associated label property (e.g., `rdfs:label`),\n",
        "and we filter for ingredients labeled as \"sugar\". This query can be extended to other ingredients by changing the filter value.\n",
        "    "
      ]
    }
  ],
  "metadata": {
    "colab": {
      "provenance": []
    },
    "language_info": {
      "name": "python"
    },
    "kernelspec": {
      "name": "python3",
      "display_name": "Python 3"
    }
  },
  "nbformat": 4,
  "nbformat_minor": 5
}