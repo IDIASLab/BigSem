{
 "cells": [
  {
   "cell_type": "markdown",
   "id": "169a3425",
   "metadata": {},
   "source": [
    "# sparql-dataframe Step-by-Step Tutorial\n",
    "In this tutorial, we will learn how to use the sparql-dataframe library to query SPARQL endpoints and convert the results into pandas DataFrames."
   ]
  },
  {
   "cell_type": "markdown",
   "id": "c6fe44f7",
   "metadata": {},
   "source": [
    "### Step 1: Installation\n",
    "First, you need to install the sparql-dataframe library using pip:\n",
    "```bash\n",
    "!pip install sparql-dataframe\n",
    "```"
   ]
  },
  {
   "cell_type": "markdown",
   "id": "90a7b124",
   "metadata": {},
   "source": [
    "### Step 2: Importing the Library and Defining the Endpoint\n",
    "We'll start by importing the necessary libraries and defining the SPARQL endpoint URL."
   ]
  },
  {
   "cell_type": "code",
   "execution_count": null,
   "id": "51058297",
   "metadata": {},
   "outputs": [],
   "source": [
    "# Importing the sparql-dataframe library\n",
    "import sparql_dataframe\n",
    "\n",
    "# Defining the SPARQL endpoint (we will use DBpedia as an example)\n",
    "endpoint_url = \"http://dbpedia.org/sparql\"\n"
   ]
  },
  {
   "cell_type": "markdown",
   "id": "634a2bc6",
   "metadata": {},
   "source": [
    "### Step 3: Writing a SPARQL Query\n",
    "Now we'll write a query to retrieve data from the endpoint. In this example, we will fetch the names and birthplaces of people, limited to 10 results."
   ]
  },
  {
   "cell_type": "code",
   "execution_count": null,
   "id": "9f4c0f87",
   "metadata": {},
   "outputs": [],
   "source": [
    "# Writing the SPARQL query\n",
    "query = \"\"\"\n",
    "    SELECT ?label ?birthPlace\n",
    "    WHERE { \n",
    "      ?person dbo:birthPlace ?birthPlace ;\n",
    "              rdfs:label ?label .\n",
    "      FILTER (lang(?label) = 'en')\n",
    "    }\n",
    "    LIMIT 10\n",
    "\"\"\" \n"
   ]
  },
  {
   "cell_type": "markdown",
   "id": "53b3c6e5",
   "metadata": {},
   "source": [
    "### Step 4: Executing the Query and Converting Results to a DataFrame\n",
    "Using the `sparql_dataframe.get()` method, we can send the query to the endpoint and convert the results to a pandas DataFrame."
   ]
  },
  {
   "cell_type": "code",
   "execution_count": null,
   "id": "161b2776",
   "metadata": {},
   "outputs": [],
   "source": [
    "# Querying the endpoint and getting the results as a DataFrame\n",
    "df = sparql_dataframe.get(endpoint_url, query)\n",
    "\n",
    "# Displaying the resulting DataFrame\n",
    "df.head()\n"
   ]
  },
  {
   "cell_type": "markdown",
   "id": "d8f8395a",
   "metadata": {},
   "source": [
    "### Example 2: Retrieving Capital Cities and Population Data from Wikidata\n",
    "Let's retrieve capital cities and their population data using the sparql-dataframe library. We will connect to the Wikidata SPARQL endpoint for this query."
   ]
  },
  {
   "cell_type": "code",
   "execution_count": null,
   "id": "1b5e90b9",
   "metadata": {},
   "outputs": [],
   "source": [
    "# Defining the Wikidata SPARQL endpoint\n",
    "wikidata_endpoint = \"https://query.wikidata.org/sparql\"\n",
    "\n",
    "# Writing a query to get the capital cities and their population\n",
    "query_capitals = \"\"\"\n",
    "    SELECT ?city ?cityLabel ?population\n",
    "    WHERE {\n",
    "      ?city wdt:P31 wd:Q515;  # Instance of city\n",
    "            wdt:P1082 ?population;  # Population property\n",
    "            wdt:P36 wd:Q142.  # France (example)\n",
    "      SERVICE wikibase:label { bd:serviceParam wikibase:language \"[AUTO_LANGUAGE],en\". }\n",
    "    }\n",
    "    LIMIT 10\n",
    "\"\"\"\n",
    "\n",
    "# Querying the endpoint and converting the results to a DataFrame\n",
    "df_capitals = sparql_dataframe.get(wikidata_endpoint, query_capitals)\n",
    "\n",
    "# Displaying the resulting DataFrame\n",
    "df_capitals.head()\n"
   ]
  },
  {
   "cell_type": "markdown",
   "id": "d02e6528",
   "metadata": {},
   "source": [
    "### Example 3: Fetching Scientific Concepts and Definitions from DBpedia\n",
    "In this final example, we will query scientific concepts and their definitions from DBpedia."
   ]
  },
  {
   "cell_type": "code",
   "execution_count": null,
   "id": "7f5bc630",
   "metadata": {},
   "outputs": [],
   "source": [
    "# Writing a SPARQL query to retrieve scientific concepts and their definitions\n",
    "query_concepts = \"\"\"\n",
    "    SELECT ?concept ?definition\n",
    "    WHERE {\n",
    "      ?concept a dbo:ScientificConcept ;\n",
    "               dbo:abstract ?definition .\n",
    "      FILTER (lang(?definition) = 'en')\n",
    "    }\n",
    "    LIMIT 10\n",
    "\"\"\"\n",
    "\n",
    "# Querying the endpoint and getting the results as a DataFrame\n",
    "df_concepts = sparql_dataframe.get(endpoint_url, query_concepts)\n",
    "\n",
    "# Displaying the resulting DataFrame\n",
    "df_concepts.head()\n"
   ]
  },
  {
   "cell_type": "markdown",
   "id": "90fd8ffa",
   "metadata": {},
   "source": [
    "### Conclusion\n",
    "In this tutorial, we explored how to use the sparql-dataframe library to query different SPARQL endpoints and retrieve results in pandas DataFrames. This method allows easy integration of SPARQL data into typical data analysis workflows using pandas."
   ]
  }
 ],
 "metadata": {},
 "nbformat": 4,
 "nbformat_minor": 5
}
