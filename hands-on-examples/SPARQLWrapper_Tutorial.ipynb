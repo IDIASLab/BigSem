{
 "cells": [
  {
   "cell_type": "markdown",
   "id": "4e15ce8e",
   "metadata": {},
   "source": [
    "# SPARQLWrapper Step-by-Step Tutorial\n",
    "In this tutorial, we will learn how to use the SPARQLWrapper library to interact with SPARQL endpoints. We will go through each step and explore real-world examples."
   ]
  },
  {
   "cell_type": "markdown",
   "id": "600a164f",
   "metadata": {},
   "source": [
    "### Step 1: Installation\n",
    "First, you need to install the SPARQLWrapper library using pip:\n",
    "```bash\n",
    "!pip install SPARQLWrapper\n",
    "```"
   ]
  },
  {
   "cell_type": "markdown",
   "id": "0a1a1af3",
   "metadata": {},
   "source": [
    "### Step 2: Setting Up SPARQLWrapper\n",
    "We begin by importing the library and connecting to a SPARQL endpoint. For this example, we will use the DBpedia endpoint."
   ]
  },
  {
   "cell_type": "code",
   "execution_count": null,
   "id": "913cf7eb",
   "metadata": {},
   "outputs": [],
   "source": [
    "# Importing the SPARQLWrapper library\n",
    "from SPARQLWrapper import SPARQLWrapper, JSON\n",
    "\n",
    "# Initializing the SPARQLWrapper with the DBpedia endpoint\n",
    "sparql = SPARQLWrapper(\"http://dbpedia.org/sparql\")\n"
   ]
  },
  {
   "cell_type": "markdown",
   "id": "9e0b0812",
   "metadata": {},
   "source": [
    "### Step 3: Writing a Query\n",
    "We will now write a simple SPARQL query to retrieve the label (name) of the Python programming language. This query will use the `rdfs:label` property to get the label in English."
   ]
  },
  {
   "cell_type": "code",
   "execution_count": null,
   "id": "684b0fb4",
   "metadata": {},
   "outputs": [],
   "source": [
    "# Writing the SPARQL query\n",
    "sparql.setQuery(\"\"\" \n",
    "    SELECT ?label\n",
    "    WHERE { \n",
    "      <http://dbpedia.org/resource/Python_(programming_language)> rdfs:label ?label .\n",
    "      FILTER (lang(?label) = 'en')\n",
    "    }\n",
    "\"\"\")\n",
    "\n",
    "# Setting the return format to JSON\n",
    "sparql.setReturnFormat(JSON)\n"
   ]
  },
  {
   "cell_type": "markdown",
   "id": "6054e856",
   "metadata": {},
   "source": [
    "### Step 4: Executing the Query\n",
    "After writing the query, we execute it and handle the results. In this example, we will print the label of the Python programming language."
   ]
  },
  {
   "cell_type": "code",
   "execution_count": null,
   "id": "c8d1cfce",
   "metadata": {},
   "outputs": [],
   "source": [
    "# Executing the query and fetching results\n",
    "results = sparql.query().convert()\n",
    "\n",
    "# Processing and printing the results\n",
    "for result in results[\"results\"][\"bindings\"]:\n",
    "    print(result[\"label\"][\"value\"])\n"
   ]
  },
  {
   "cell_type": "markdown",
   "id": "e7affc3c",
   "metadata": {},
   "source": [
    "### Example 2: Retrieving Abstracts of Programming Languages\n",
    "Let's now modify the query to fetch abstracts of different programming languages. This query will retrieve the abstracts of Python, Java, and C++ from DBpedia."
   ]
  },
  {
   "cell_type": "code",
   "execution_count": null,
   "id": "7e64b196",
   "metadata": {},
   "outputs": [],
   "source": [
    "# Querying abstracts of different programming languages\n",
    "sparql.setQuery(\"\"\" \n",
    "    SELECT ?language ?abstract\n",
    "    WHERE { \n",
    "      VALUES ?language { <http://dbpedia.org/resource/Python_(programming_language)>\n",
    "                         <http://dbpedia.org/resource/Java_(programming_language)>\n",
    "                         <http://dbpedia.org/resource/C%2B%2B> }\n",
    "      ?language dbo:abstract ?abstract .\n",
    "      FILTER (lang(?abstract) = 'en')\n",
    "    }\n",
    "\"\"\")\n",
    "\n",
    "# Executing the query\n",
    "results = sparql.query().convert()\n",
    "\n",
    "# Printing the results\n",
    "for result in results[\"results\"][\"bindings\"]:\n",
    "    print(f\"Language: {result['language']['value']}\")\n",
    "    print(f\"Abstract: {result['abstract']['value']}\n",
    "\")\n"
   ]
  },
  {
   "cell_type": "markdown",
   "id": "ebb69cc7",
   "metadata": {},
   "source": [
    "### Example 3: Retrieving Population Data from a Geographic Endpoint\n",
    "We can also query geographic data. In this example, we will retrieve the population of major cities in France from the Wikidata SPARQL endpoint."
   ]
  },
  {
   "cell_type": "code",
   "execution_count": null,
   "id": "99b678ef",
   "metadata": {},
   "outputs": [],
   "source": [
    "# Connecting to the Wikidata SPARQL endpoint\n",
    "sparql = SPARQLWrapper(\"https://query.wikidata.org/sparql\")\n",
    "\n",
    "# Writing a query to get the population of major cities in France\n",
    "sparql.setQuery(\"\"\" \n",
    "    SELECT ?city ?population\n",
    "    WHERE {\n",
    "      ?city wdt:P31 wd:Q515;  # Instance of city\n",
    "            wdt:P17 wd:Q142;  # Located in France\n",
    "            wdt:P1082 ?population. # Population property\n",
    "      ?city rdfs:label ?label.\n",
    "      FILTER(LANG(?label) = \"en\")\n",
    "    }\n",
    "    ORDER BY DESC(?population)\n",
    "    LIMIT 10\n",
    "\"\"\")\n",
    "\n",
    "# Setting the return format\n",
    "sparql.setReturnFormat(JSON)\n",
    "\n",
    "# Executing the query and displaying results\n",
    "results = sparql.query().convert()\n",
    "\n",
    "# Printing the population of major cities in France\n",
    "for result in results[\"results\"][\"bindings\"]:\n",
    "    print(f\"City: {result['city']['value']}, Population: {result['population']['value']}\")\n"
   ]
  },
  {
   "cell_type": "markdown",
   "id": "93913e89",
   "metadata": {},
   "source": [
    "### Conclusion\n",
    "We have explored how to use SPARQLWrapper to query different SPARQL endpoints. You can modify the queries to retrieve various types of data depending on your needs. For more advanced queries, refer to the SPARQL query language documentation."
   ]
  }
 ],
 "metadata": {
  "language_info": {
   "name": "python"
  }
 },
 "nbformat": 4,
 "nbformat_minor": 5
}
